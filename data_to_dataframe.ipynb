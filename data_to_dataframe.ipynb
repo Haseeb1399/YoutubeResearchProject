{
 "cells": [
  {
   "cell_type": "code",
   "execution_count": 4,
   "metadata": {},
   "outputs": [],
   "source": [
    "import os\n",
    "import pandas as pd\n",
    "import ast\n",
    "\n",
    "rootdir = \"C:/Users/hp/Desktop/Sproj/Active\"  ##Set Root folder directory."
   ]
  },
  {
   "cell_type": "code",
   "execution_count": 32,
   "metadata": {},
   "outputs": [],
   "source": [
    "\n",
    "all_dicts = []\n",
    "for root,dirs,files in os.walk(rootdir):\n",
    "    new_dict = {}\n",
    "    dictionary_made = False\n",
    "    for name in files:\n",
    "        new_path = os.path.join(root,'stream_details.txt')\n",
    "        if not os.path.exists(new_path):\n",
    "            continue\n",
    "            \n",
    "        if not dictionary_made:\n",
    "            with open(new_path) as data:\n",
    "                temp_dict = ast.literal_eval(data.read())\n",
    "                for key,values in temp_dict.items():\n",
    "                    new_key = key.strip()\n",
    "                    new_dict[new_key]=values\n",
    "            dictionary_made = True\n",
    "            \n",
    "        if name.split('.')[1] == 'txt' or name.split('.')[1] == 'py' or name.split('.')[1]=='exe' or name.split('.')[1]=='ipynb':\n",
    "            continue\n",
    "        else:\n",
    "            file_path = os.path.join(root,name)\n",
    "            name=name.replace(\".mp4\",'')\n",
    "            ad_id = name.split('_')\n",
    "            if(ad_id[0]==\"MainVideo\"):\n",
    "                new_dict['Main_Video'][\"Size\"]=os.path.getsize(file_path)\n",
    "            else:\n",
    "                if(ad_id[1]==''):\n",
    "                    new_id = \"_\"+ad_id[2]\n",
    "                    stripped_key = new_id.strip()\n",
    "                    new_dict[stripped_key]['Size']=os.path.getsize(file_path)\n",
    "                else:\n",
    "                    stripped_key = ad_id[1].strip()\n",
    "                    new_dict[stripped_key]['Size']=os.path.getsize(file_path)\n",
    "    \n",
    "    temp_dict={}\n",
    "    temp_dict[root[-1]]=new_dict\n",
    "    all_dicts.append(temp_dict)"
   ]
  },
  {
   "cell_type": "code",
   "execution_count": null,
   "metadata": {},
   "outputs": [],
   "source": []
  }
 ],
 "metadata": {
  "kernelspec": {
   "display_name": "Python 3.7.9 32-bit",
   "language": "python",
   "name": "python3"
  },
  "language_info": {
   "codemirror_mode": {
    "name": "ipython",
    "version": 3
   },
   "file_extension": ".py",
   "mimetype": "text/x-python",
   "name": "python",
   "nbconvert_exporter": "python",
   "pygments_lexer": "ipython3",
   "version": "3.7.9"
  },
  "orig_nbformat": 4,
  "vscode": {
   "interpreter": {
    "hash": "03a6a02389a0a59374592e8f1cf30d24fda0d9ebe36f20503aa978c5904abee7"
   }
  }
 },
 "nbformat": 4,
 "nbformat_minor": 2
}
